{
 "cells": [
  {
   "cell_type": "code",
   "execution_count": 1,
   "id": "cbb2fd17-ecaa-4b56-b95f-3904498a803f",
   "metadata": {},
   "outputs": [
    {
     "name": "stderr",
     "output_type": "stream",
     "text": [
      "\u001b[32m\u001b[1m  Activating\u001b[22m\u001b[39m project at `~/research/xaqlab/ergm.jl`\n"
     ]
    }
   ],
   "source": [
    "import Pkg\n",
    "Pkg.activate(\"..\")"
   ]
  },
  {
   "cell_type": "code",
   "execution_count": 3,
   "id": "be39126f-1b83-4ec6-9515-a2bd2610943b",
   "metadata": {},
   "outputs": [
    {
     "name": "stderr",
     "output_type": "stream",
     "text": [
      "┌ Info: Precompiling ergm [caa93091-3dc3-4b2b-9430-1aae38e8753f]\n",
      "└ @ Base loading.jl:1423\n"
     ]
    },
    {
     "data": {
      "text/plain": [
       "PyObject <networkx.classes.multidigraph.MultiDiGraph object at 0x7fa4b42d5090>"
      ]
     },
     "execution_count": 3,
     "metadata": {},
     "output_type": "execute_result"
    }
   ],
   "source": [
    "using ergm.platinum\n",
    "\n",
    "G = load_graph()"
   ]
  },
  {
   "cell_type": "code",
   "execution_count": 105,
   "id": "49e9eafc-4521-41a2-8239-614f57466abc",
   "metadata": {},
   "outputs": [],
   "source": [
    "Hs_nx = subsample(G, 30, 10000)\n",
    "Hs = map(nx_to_digraph, Hs_nx);"
   ]
  },
  {
   "cell_type": "code",
   "execution_count": 74,
   "id": "f8288c7d-f519-4cda-97fb-d7a0559dfc72",
   "metadata": {},
   "outputs": [],
   "source": [
    "using ergm.stats\n",
    "using ergm.spaces\n",
    "\n"
   ]
  },
  {
   "cell_type": "code",
   "execution_count": 102,
   "id": "f40ec646-03fa-4528-a7f2-57f72b4ace62",
   "metadata": {},
   "outputs": [
    {
     "data": {
      "text/plain": [
       "DeltaStats(var\"#37#39\"(), var\"#38#40\"(), UndefInitializer(), UndefInitializer())"
      ]
     },
     "execution_count": 102,
     "metadata": {},
     "output_type": "execute_result"
    }
   ],
   "source": [
    "n = 30\n",
    "stats = DeltaStats(\n",
    "    function(G)\n",
    "        [\n",
    "            sum(G.adjacency) / (n * (n - 1)),\n",
    "            tr(G.adjacency ^ 3) / (n * (n - 1) * (n - 2))\n",
    "        ]\n",
    "    end,\n",
    "    function(G, s, u)\n",
    "        i, x = u\n",
    "        s + [\n",
    "            (x - G[i]) / (n * (n - 1)),\n",
    "            3 * (x - G[i]) * dot(G.adjacency[i[2], :], G.adjacency[:, i[1]]) / (n * (n - 1) * (n - 2))\n",
    "        ]\n",
    "    end\n",
    ")"
   ]
  },
  {
   "cell_type": "code",
   "execution_count": 109,
   "id": "36205d97-3b0f-4e98-aca8-f300b2792d1c",
   "metadata": {},
   "outputs": [
    {
     "data": {
      "text/plain": [
       "2×1 Matrix{Float64}:\n",
       " 0.010818275862069314\n",
       " 1.0061576354679766e-5"
      ]
     },
     "execution_count": 109,
     "metadata": {},
     "output_type": "execute_result"
    }
   ],
   "source": [
    "ms = mean(ss, dims=2)"
   ]
  },
  {
   "cell_type": "code",
   "execution_count": 114,
   "id": "2361b21c-ec97-4dca-8942-d395f83d2dc3",
   "metadata": {},
   "outputs": [
    {
     "data": {
      "text/plain": [
       "0.018447568559492408"
      ]
     },
     "execution_count": 114,
     "metadata": {},
     "output_type": "execute_result"
    }
   ],
   "source": []
  },
  {
   "cell_type": "code",
   "execution_count": 110,
   "id": "448267f1-8951-4f39-837e-2cb7508a1006",
   "metadata": {},
   "outputs": [
    {
     "data": {
      "text/plain": [
       "10000-element Vector{Float64}:\n",
       "  -1.0\n",
       "  -1.0\n",
       "  -1.0\n",
       "  -1.0\n",
       "  -1.0\n",
       "  -1.0\n",
       "  -1.0\n",
       "  -1.0\n",
       "  -1.0\n",
       "  -1.0\n",
       "  -1.0\n",
       "  -1.0\n",
       "  -1.0\n",
       "   ⋮\n",
       "  -1.0\n",
       "  -1.0\n",
       "  -1.0\n",
       "  -1.0\n",
       "  -1.0\n",
       "  -1.0\n",
       "  -1.0\n",
       "  -1.0\n",
       "  -1.0\n",
       "  -1.0\n",
       " NaN\n",
       "  -1.0"
      ]
     },
     "execution_count": 110,
     "metadata": {},
     "output_type": "execute_result"
    }
   ],
   "source": [
    "ss = hcat(map(H -> get_stats(stats, H), Hs)...)\n",
    "d = (ss[2, :] - ss[1, :].^3) ./ (ss[1, :].^3)"
   ]
  },
  {
   "cell_type": "code",
   "execution_count": 62,
   "id": "131dba41-00a2-4dec-b834-4fe1c31a5d62",
   "metadata": {},
   "outputs": [
    {
     "data": {
      "text/plain": [
       "500000-element BitVector:\n",
       " 0\n",
       " 0\n",
       " 0\n",
       " 0\n",
       " 0\n",
       " 0\n",
       " 0\n",
       " 0\n",
       " 0\n",
       " 0\n",
       " 0\n",
       " 0\n",
       " 0\n",
       " ⋮\n",
       " 0\n",
       " 0\n",
       " 0\n",
       " 0\n",
       " 0\n",
       " 0\n",
       " 0\n",
       " 0\n",
       " 0\n",
       " 0\n",
       " 0\n",
       " 0"
      ]
     },
     "execution_count": 62,
     "metadata": {},
     "output_type": "execute_result"
    }
   ],
   "source": [
    "Hs_1 = Hs[1:50]\n",
    "Hs_2 = Hs[51:100]\n",
    "as = vcat(map(H -> vec(H.adjacency), Hs_1)...)\n",
    "bs = vcat(map(H -> vec(H.adjacency), Hs_2)...)"
   ]
  },
  {
   "cell_type": "code",
   "execution_count": 68,
   "id": "ff2d1b83-370a-4c3d-a029-d9570c69056e",
   "metadata": {},
   "outputs": [
    {
     "data": {
      "text/plain": [
       "2×2 Matrix{Int64}:\n",
       " 492965  3298\n",
       "   3698    39"
      ]
     },
     "execution_count": 68,
     "metadata": {},
     "output_type": "execute_result"
    }
   ],
   "source": [
    "x = [sum((as .== a) .& (bs .== b)) for a ∈ 0:1, b ∈ 0:1]"
   ]
  },
  {
   "cell_type": "code",
   "execution_count": 70,
   "id": "0e5de19b-7dca-4391-bedf-01ae7c7c7b0c",
   "metadata": {},
   "outputs": [
    {
     "data": {
      "text/plain": [
       "Pearson's Chi-square Test\n",
       "-------------------------\n",
       "Population details:\n",
       "    parameter of interest:   Multinomial Probabilities\n",
       "    value under h_0:         [0.985902, 0.00742412, 0.00662412, 4.98815e-5]\n",
       "    point estimate:          [0.98593, 0.007396, 0.006596, 7.8e-5]\n",
       "    95% confidence interval: [(0.0, 1.0), (0.0, 1.0), (0.0, 1.0), (0.0, 1.0)]\n",
       "\n",
       "Test summary:\n",
       "    outcome with 95% confidence: reject h_0\n",
       "    one-sided p-value:           0.0046\n",
       "\n",
       "Details:\n",
       "    Sample size:        500000\n",
       "    statistic:          8.038630248163368\n",
       "    degrees of freedom: 1\n",
       "    residuals:          [0.0200245, -0.230757, -0.244294, 2.81519]\n",
       "    std. residuals:     [2.83525, -2.83525, -2.83525, 2.83525]\n"
      ]
     },
     "execution_count": 70,
     "metadata": {},
     "output_type": "execute_result"
    }
   ],
   "source": [
    "using HypothesisTests\n",
    "\n",
    "ChisqTest(x)"
   ]
  }
 ],
 "metadata": {
  "kernelspec": {
   "display_name": "Julia 1.7.1",
   "language": "julia",
   "name": "julia-1.7"
  },
  "language_info": {
   "file_extension": ".jl",
   "mimetype": "application/julia",
   "name": "julia",
   "version": "1.7.2"
  }
 },
 "nbformat": 4,
 "nbformat_minor": 5
}
