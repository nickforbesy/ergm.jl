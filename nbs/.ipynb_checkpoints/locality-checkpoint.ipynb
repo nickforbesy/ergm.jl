{
 "cells": [
  {
   "cell_type": "code",
   "execution_count": 1,
   "id": "fb7c4a09-e7d2-48bb-9582-e2cc47bd3122",
   "metadata": {},
   "outputs": [
    {
     "name": "stderr",
     "output_type": "stream",
     "text": [
      "\u001b[32m\u001b[1m  Activating\u001b[22m\u001b[39m project at `~/research/xaqlab/ergm.jl`\n"
     ]
    }
   ],
   "source": [
    "import Pkg\n",
    "\n",
    "Pkg.activate(\"..\")"
   ]
  },
  {
   "cell_type": "markdown",
   "id": "68352a99-f9be-4bfc-ba7d-04590d8190c0",
   "metadata": {},
   "source": [
    "# Overview"
   ]
  },
  {
   "cell_type": "markdown",
   "id": "66b5ca50-eb1c-48c0-8d79-0b71904453a2",
   "metadata": {},
   "source": [
    "As suggested by Dr. Schweinberger, ERGMs which are restricted to only \"local\" interactions (e.g., an Ising lattice) are likely to be better behaved for MCMCMLE. We will first try only allowing synapses between neurons with an intersoma distance below a fixed threshold."
   ]
  },
  {
   "cell_type": "markdown",
   "id": "2c7e4311-3fb5-4ba0-a7c7-82e7219584e0",
   "metadata": {},
   "source": [
    "# Threshold Choice"
   ]
  },
  {
   "cell_type": "code",
   "execution_count": null,
   "id": "5d491fff-bd24-4609-9c7c-26e8cf38078e",
   "metadata": {},
   "outputs": [],
   "source": []
  }
 ],
 "metadata": {
  "kernelspec": {
   "display_name": "Julia 1.7.1",
   "language": "julia",
   "name": "julia-1.7"
  },
  "language_info": {
   "file_extension": ".jl",
   "mimetype": "application/julia",
   "name": "julia",
   "version": "1.7.1"
  }
 },
 "nbformat": 4,
 "nbformat_minor": 5
}
