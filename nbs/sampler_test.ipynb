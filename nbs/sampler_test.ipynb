{
 "cells": [
  {
   "cell_type": "code",
   "execution_count": 1,
   "id": "1dfcc6ad-f6d7-4fa6-a170-d3c13c2e9a86",
   "metadata": {},
   "outputs": [
    {
     "name": "stderr",
     "output_type": "stream",
     "text": [
      "\u001b[32m\u001b[1m  Activating\u001b[22m\u001b[39m project at `~/research/xaqlab/ergm.jl`\n"
     ]
    }
   ],
   "source": [
    "import Pkg\n",
    "Pkg.activate(\"..\")"
   ]
  },
  {
   "cell_type": "code",
   "execution_count": 24,
   "id": "b6503eec-7325-4e3e-a202-9a16a06fdefc",
   "metadata": {},
   "outputs": [
    {
     "data": {
      "text/plain": [
       "GibbsSampler(DenseDiGraph(Bool[0 0 … 1 1; 0 1 … 1 1; … ; 0 1 … 0 1; 0 0 … 1 1], 10), DenseDiGraph(Bool[0 0 … 1 1; 0 1 … 1 1; … ; 0 1 … 0 1; 0 0 … 1 1], 10), SimpleLikelihood(f, DenseDiGraph(Bool[0 0 … 1 1; 0 1 … 1 1; … ; 0 1 … 0 1; 0 0 … 1 1], 10)), 1000, 1000)"
      ]
     },
     "execution_count": 24,
     "metadata": {},
     "output_type": "execute_result"
    }
   ],
   "source": [
    "using ergm.sampler\n",
    "using ergm.spaces\n",
    "\n",
    "n = 10\n",
    "f(G) = exp(-10 * sum(G.adjacency) / (n * (n - 1)))\n",
    "l = SimpleLikelihood(f)\n",
    "G0 = DenseDiGraph(rand(Bool, (n, n)))\n",
    "\n",
    "s = GibbsSampler(\n",
    "    G0,\n",
    "    l,\n",
    "    1000,\n",
    "    1000\n",
    ")"
   ]
  },
  {
   "cell_type": "code",
   "execution_count": 25,
   "id": "b46570f3-94c9-4d99-a606-cdf093cb784e",
   "metadata": {},
   "outputs": [
    {
     "data": {
      "text/plain": [
       "10-element Vector{Any}:\n",
       " DenseDiGraph(Bool[0 0 … 0 1; 0 1 … 1 0; … ; 1 0 … 0 0; 1 1 … 1 1], 10)\n",
       " DenseDiGraph(Bool[0 0 … 0 0; 0 1 … 0 0; … ; 1 0 … 0 0; 1 1 … 1 1], 10)\n",
       " DenseDiGraph(Bool[0 0 … 0 1; 0 1 … 0 0; … ; 0 1 … 0 0; 0 1 … 0 1], 10)\n",
       " DenseDiGraph(Bool[0 1 … 0 1; 1 1 … 0 0; … ; 0 1 … 0 1; 1 1 … 0 1], 10)\n",
       " DenseDiGraph(Bool[0 1 … 1 1; 1 1 … 1 1; … ; 1 0 … 0 1; 1 0 … 1 1], 10)\n",
       " DenseDiGraph(Bool[0 0 … 0 0; 1 1 … 0 1; … ; 1 0 … 0 0; 0 0 … 0 1], 10)\n",
       " DenseDiGraph(Bool[0 0 … 0 1; 0 1 … 1 1; … ; 1 1 … 0 0; 0 0 … 1 1], 10)\n",
       " DenseDiGraph(Bool[0 1 … 1 1; 0 1 … 1 1; … ; 1 0 … 0 0; 0 1 … 0 1], 10)\n",
       " DenseDiGraph(Bool[0 1 … 0 1; 0 1 … 0 0; … ; 0 1 … 0 1; 1 1 … 0 1], 10)\n",
       " DenseDiGraph(Bool[0 1 … 0 1; 1 1 … 1 1; … ; 0 1 … 0 1; 0 1 … 0 1], 10)"
      ]
     },
     "execution_count": 25,
     "metadata": {},
     "output_type": "execute_result"
    }
   ],
   "source": [
    "Gs = sample(s, 10)"
   ]
  },
  {
   "cell_type": "code",
   "execution_count": 26,
   "id": "53b7ed38-3bb7-4bca-bd08-9da50a45d1da",
   "metadata": {},
   "outputs": [
    {
     "data": {
      "text/plain": [
       "47.5"
      ]
     },
     "execution_count": 26,
     "metadata": {},
     "output_type": "execute_result"
    }
   ],
   "source": [
    "using Statistics\n",
    "mean([sum(G.adjacency) for G ∈ Gs])"
   ]
  },
  {
   "cell_type": "code",
   "execution_count": null,
   "id": "4eb7d7b3-8be1-4a92-8b0f-28a56d1b3ec4",
   "metadata": {},
   "outputs": [],
   "source": []
  }
 ],
 "metadata": {
  "kernelspec": {
   "display_name": "Julia 1.6.2",
   "language": "julia",
   "name": "julia-1.6"
  },
  "language_info": {
   "file_extension": ".jl",
   "mimetype": "application/julia",
   "name": "julia",
   "version": "1.7.1"
  }
 },
 "nbformat": 4,
 "nbformat_minor": 5
}
