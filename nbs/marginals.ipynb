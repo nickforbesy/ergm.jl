{
 "cells": [
  {
   "cell_type": "code",
   "execution_count": 1,
   "id": "1b257c90-d7e3-4a86-b6a2-cdd313cc61fe",
   "metadata": {},
   "outputs": [
    {
     "name": "stderr",
     "output_type": "stream",
     "text": [
      "\u001b[32m\u001b[1m  Activating\u001b[22m\u001b[39m project at `~/research/xaqlab/ergm.jl`\n"
     ]
    }
   ],
   "source": [
    "import Pkg\n",
    "Pkg.activate(\"..\")"
   ]
  },
  {
   "cell_type": "markdown",
   "id": "0be1410d-a77c-46ee-b503-11a97813ab17",
   "metadata": {},
   "source": [
    "# Fitted Edge-Triangle Model"
   ]
  },
  {
   "cell_type": "code",
   "execution_count": 2,
   "id": "9ccd2abe-02b8-410e-b7a0-5a3f2c322731",
   "metadata": {},
   "outputs": [],
   "source": [
    "using ergm.sampler\n",
    "using ergm.spaces\n",
    "using ergm.stats\n",
    "using ergm.models\n",
    "using ergm.inference\n",
    "using ergm.optim\n",
    "using LinearAlgebra\n",
    "using Random\n",
    "\n",
    "n = 30\n",
    "stats = DeltaStats(\n",
    "    function(G)\n",
    "        p = sum(G.adjacency) / (n * (n - 1))\n",
    "        [\n",
    "            p,\n",
    "            tr(G.adjacency ^ 3) / (n * (n - 1) * (n - 2)) - p ^ 3\n",
    "        ]\n",
    "    end,\n",
    "    function(G, s, u)\n",
    "        i, x = u\n",
    "        p = s[1]\n",
    "        dp = (x - G[i]) / (n * (n - 1))\n",
    "        s + [\n",
    "            dp,\n",
    "            3 * (x - G[i]) * dot(G.adjacency[i[2], :], G.adjacency[:, i[1]]) / (n * (n - 1) * (n - 2)) - (p + dp) ^ 3 + p ^ 3\n",
    "        ]\n",
    "    end\n",
    ")\n",
    "\n",
    "target_Es = [1e-2, 3e-6]\n",
    "G0 = DiGraph(convert(Matrix{Bool}, rand(Float64, (n, n)) .< 0.1))\n",
    "θ0 = [-3916.7, 1e4]\n",
    "m = ExponentialFamily(stats, θ0)\n",
    "samp = ParallelGibbsSampler(\n",
    "    G0,\n",
    "    m,\n",
    "    10,\n",
    "    10,\n",
    "    Threads.nthreads()\n",
    ");"
   ]
  },
  {
   "cell_type": "code",
   "execution_count": 12,
   "id": "cb93bf84-7d8d-4447-b958-dc424c15a45f",
   "metadata": {},
   "outputs": [
    {
     "data": {
      "text/plain": [
       "(Any[DiGraph(Bool[0 0 … 0 0; 0 0 … 0 0; … ; 0 0 … 0 0; 0 0 … 0 0], 30, 0), DiGraph(Bool[0 0 … 0 0; 1 0 … 0 0; … ; 0 0 … 0 0; 0 0 … 0 0], 30, 0), DiGraph(Bool[0 0 … 0 0; 0 0 … 0 0; … ; 0 0 … 0 0; 0 0 … 0 0], 30, 0), DiGraph(Bool[0 0 … 0 0; 0 0 … 0 0; … ; 0 0 … 0 0; 0 0 … 0 0], 30, 0), DiGraph(Bool[0 0 … 0 0; 0 0 … 0 0; … ; 0 0 … 0 0; 0 0 … 0 0], 30, 0), DiGraph(Bool[0 0 … 0 0; 0 0 … 0 0; … ; 0 0 … 0 0; 0 0 … 0 0], 30, 0), DiGraph(Bool[0 0 … 0 0; 0 0 … 0 0; … ; 0 0 … 0 0; 0 0 … 0 0], 30, 0), DiGraph(Bool[0 0 … 0 0; 0 0 … 0 0; … ; 0 0 … 0 0; 0 0 … 0 0], 30, 0), DiGraph(Bool[0 0 … 0 0; 0 0 … 0 0; … ; 0 0 … 0 0; 0 0 … 0 0], 30, 0), DiGraph(Bool[0 0 … 0 0; 0 0 … 0 0; … ; 0 0 … 0 0; 0 0 … 0 0], 30, 0)  …  DiGraph(Bool[0 0 … 0 0; 0 0 … 0 0; … ; 0 0 … 0 0; 0 0 … 0 0], 30, 0), DiGraph(Bool[0 0 … 0 0; 0 0 … 0 0; … ; 0 0 … 0 0; 0 0 … 0 0], 30, 0), DiGraph(Bool[0 0 … 0 0; 0 0 … 0 0; … ; 0 0 … 0 0; 0 0 … 0 0], 30, 0), DiGraph(Bool[0 0 … 0 0; 0 0 … 0 0; … ; 0 0 … 0 0; 0 0 … 0 0], 30, 0), DiGraph(Bool[0 0 … 0 0; 0 0 … 0 0; … ; 0 0 … 0 0; 0 0 … 0 0], 30, 0), DiGraph(Bool[0 0 … 0 0; 0 0 … 0 0; … ; 0 0 … 0 0; 0 0 … 0 0], 30, 0), DiGraph(Bool[0 0 … 0 0; 0 0 … 0 0; … ; 0 0 … 0 0; 0 0 … 0 0], 30, 0), DiGraph(Bool[0 0 … 0 0; 0 0 … 0 0; … ; 0 0 … 0 0; 0 1 … 0 0], 30, 0), DiGraph(Bool[0 0 … 0 0; 0 0 … 0 0; … ; 0 0 … 0 0; 0 0 … 0 0], 30, 0), DiGraph(Bool[0 0 … 0 0; 0 0 … 0 0; … ; 0 0 … 0 0; 0 1 … 0 0], 30, 0)], [0.01034482758620707 0.008045977011494426 … 0.006896551724138104 0.006896551724138104; -1.1070564598795367e-6 -5.208784166511618e-7 … -3.280167288522158e-7 -3.280167288522158e-7])"
      ]
     },
     "execution_count": 12,
     "metadata": {},
     "output_type": "execute_result"
    }
   ],
   "source": [
    "_, ss = sample(samp, 10000)"
   ]
  },
  {
   "cell_type": "markdown",
   "id": "8be62d01-66c1-47b4-a13e-e5d28d51cba6",
   "metadata": {},
   "source": [
    "# Platinum Data"
   ]
  },
  {
   "cell_type": "code",
   "execution_count": 4,
   "id": "ad06a19f-4cb6-40b9-90e1-d84cb189a391",
   "metadata": {},
   "outputs": [
    {
     "data": {
      "text/plain": [
       "PyObject <networkx.classes.multidigraph.MultiDiGraph object at 0x7f0b772d5090>"
      ]
     },
     "execution_count": 4,
     "metadata": {},
     "output_type": "execute_result"
    }
   ],
   "source": [
    "using ergm.platinum\n",
    "\n",
    "G = load_graph()"
   ]
  },
  {
   "cell_type": "code",
   "execution_count": null,
   "id": "cea764f7-18c7-40ce-b355-7725d1cbccd5",
   "metadata": {},
   "outputs": [],
   "source": [
    "Hs = map(nx_to_digraph, subsample(G, n, 10000))"
   ]
  },
  {
   "cell_type": "code",
   "execution_count": 13,
   "id": "27e59238-8028-417f-b87d-3298a20c9f3e",
   "metadata": {},
   "outputs": [
    {
     "data": {
      "text/plain": [
       "2×10000 Matrix{Float64}:\n",
       "  0.0206897    0.0126437    0.00689655  …   0.0183908   0.0252874\n",
       " -8.85645e-6  -2.02125e-6  -3.28017e-7     -6.22017e-6  0.000106983"
      ]
     },
     "execution_count": 13,
     "metadata": {},
     "output_type": "execute_result"
    }
   ],
   "source": [
    "ss_p = hcat(map(H -> get_stats(stats, H), Hs)...)"
   ]
  },
  {
   "cell_type": "markdown",
   "id": "51227033-7082-4255-806d-812d38874590",
   "metadata": {},
   "source": [
    "# Plots"
   ]
  },
  {
   "cell_type": "code",
   "execution_count": 41,
   "id": "445b7ed9-24f7-4d55-bedb-9f7ee11f17af",
   "metadata": {},
   "outputs": [],
   "source": [
    "using Plots\n",
    "\n",
    "p = histogram(hcat(ss[1, :], ss_p[1, :]), labels=[\"directed edge-triangle ERGM\" \"Platinum connectome\"], dpi=300)\n",
    "xlabel!(\"edge density statistic\")\n",
    "ylabel!(\"count\")\n",
    "savefig(\"310_figs/marginal.png\")"
   ]
  }
 ],
 "metadata": {
  "kernelspec": {
   "display_name": "Julia 1.7.1",
   "language": "julia",
   "name": "julia-1.7"
  },
  "language_info": {
   "file_extension": ".jl",
   "mimetype": "application/julia",
   "name": "julia",
   "version": "1.7.2"
  }
 },
 "nbformat": 4,
 "nbformat_minor": 5
}
