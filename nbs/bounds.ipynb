{
 "cells": [
  {
   "cell_type": "code",
   "execution_count": 1,
   "id": "7f325c34-f69f-4bfa-97e8-cc34f2297762",
   "metadata": {},
   "outputs": [
    {
     "name": "stderr",
     "output_type": "stream",
     "text": [
      "\u001b[32m\u001b[1m  Activating\u001b[22m\u001b[39m new project at `~/research/xaqlab/ergm.jl/nbs`\n"
     ]
    }
   ],
   "source": [
    "import Pkg\n",
    "Pkg.activate(\".\")"
   ]
  },
  {
   "cell_type": "code",
   "execution_count": null,
   "id": "8dca164b-b1d4-427a-9540-71f4b8780e8c",
   "metadata": {},
   "outputs": [],
   "source": [
    "using ergm.stats\n",
    "\n",
    "stats = SimpleStats(\n",
    "    function(G)\n",
    "        p = sum(G.adjacency) / (n * (n - 1))\n",
    "        [\n",
    "            p,\n",
    "            tr(G.adjacency ^ 3) / (n * (n - 1) * (n - 2)) - p ^ 3\n",
    "        ]\n",
    "    end\n",
    ")"
   ]
  }
 ],
 "metadata": {
  "kernelspec": {
   "display_name": "Julia 1.7.1",
   "language": "julia",
   "name": "julia-1.7"
  },
  "language_info": {
   "file_extension": ".jl",
   "mimetype": "application/julia",
   "name": "julia",
   "version": "1.7.3"
  }
 },
 "nbformat": 4,
 "nbformat_minor": 5
}
